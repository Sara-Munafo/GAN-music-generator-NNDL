{
 "cells": [
  {
   "cell_type": "code",
   "execution_count": 1,
   "id": "65c5c206",
   "metadata": {},
   "outputs": [],
   "source": [
    "import mido\n",
    "import matplotlib.pyplot as plt\n",
    "import numpy as np\n",
    "import os\n",
    "import shutil\n",
    "import pretty_midi\n",
    "from preprocess_midi import *"
   ]
  },
  {
   "cell_type": "markdown",
   "id": "aa815953",
   "metadata": {},
   "source": [
    "#### Standard MIDI File Structure    \n",
    "\n",
    "A standard MIDI file consists of three main components:\n",
    "\n",
    "1. Header Chunk: This provides metadata about the file.Chunk Type: 4 bytes, always \"MThd\".\n",
    "   - Length: 4 bytes, always 6 (the length of the header data).|\n",
    "   - Format Type: 2 bytes, indicating the file format (0, 1, or 2).\n",
    "   - Number of Tracks: 2 bytes, indicating the number of track chunks in the file.\n",
    "   - Time Division: 2 bytes, indicating the timing information (ticks per quarter note or frames per second).    \n",
    "   \n",
    "\n",
    "2. Track Chunk(s): Each track contains a sequence of MIDI events.\n",
    "   - Chunk Type: 4 bytes, always \"MTrk\".\n",
    "   - Length: 4 bytes, indicating the length of the track data.\n",
    "   - Track Event Data: Variable length, consisting of MIDI events such as note on/off, control changes, and meta events."
   ]
  },
  {
   "cell_type": "markdown",
   "id": "9c65fb39",
   "metadata": {},
   "source": [
    "# 0. PREPROCESSING"
   ]
  },
  {
   "cell_type": "markdown",
   "id": "61a441de",
   "metadata": {},
   "source": [
    "## 0.1 Get melodies from full dataset"
   ]
  },
  {
   "cell_type": "markdown",
   "id": "a0640dfc",
   "metadata": {},
   "source": [
    "https://colinraffel.com/projects/lmd/#get"
   ]
  },
  {
   "cell_type": "code",
   "execution_count": 15,
   "id": "8ff64607",
   "metadata": {},
   "outputs": [],
   "source": [
    "path_full = 'LAKH/lmd_full'\n",
    "paths = []\n",
    "\n",
    "directories = os.listdir(path_full)\n",
    "\n",
    "for direc in directories:\n",
    "    directory = f\"{path_full}/{direc}\"\n",
    "    midi_files = [name for name in os.listdir(directory) if name.endswith('.mid')]\n",
    "    for midi in midi_files:\n",
    "        paths.append(f\"{path_full}/{direc}/{midi}\")"
   ]
  },
  {
   "cell_type": "code",
   "execution_count": 16,
   "id": "90504f6b",
   "metadata": {},
   "outputs": [
    {
     "data": {
      "text/plain": [
       "178561"
      ]
     },
     "execution_count": 16,
     "metadata": {},
     "output_type": "execute_result"
    }
   ],
   "source": [
    "len(paths)"
   ]
  },
  {
   "cell_type": "code",
   "execution_count": 17,
   "id": "44509a66",
   "metadata": {},
   "outputs": [
    {
     "name": "stderr",
     "output_type": "stream",
     "text": [
      "/home/sara/anaconda3/lib/python3.9/site-packages/pretty_midi/pretty_midi.py:100: RuntimeWarning: Tempo, Key or Time signature change events found on non-zero tracks.  This is not a valid type 0 or type 1 MIDI file.  Tempo, Key or Time Signature may be wrong.\n",
      "  warnings.warn(\n"
     ]
    }
   ],
   "source": [
    "melodies = []\n",
    "corrupt = 0    \n",
    "\n",
    "for i,path in enumerate(paths):\n",
    "    res = search_melodies(path)\n",
    "    if res is not None:\n",
    "        if res==1:\n",
    "            melodies.append(path)\n",
    "    else:\n",
    "        corrupt += 1"
   ]
  },
  {
   "cell_type": "code",
   "execution_count": 18,
   "id": "955b4890",
   "metadata": {},
   "outputs": [
    {
     "name": "stdout",
     "output_type": "stream",
     "text": [
      "Melodies found:  3144 \n",
      "Corrupted files:  69210\n"
     ]
    }
   ],
   "source": [
    "print('Melodies found: ', len(melodies), '\\nCorrupted files: ', corrupt)"
   ]
  },
  {
   "cell_type": "code",
   "execution_count": 19,
   "id": "56d5b946",
   "metadata": {},
   "outputs": [
    {
     "name": "stdout",
     "output_type": "stream",
     "text": [
      "Files copied successfully.\n"
     ]
    }
   ],
   "source": [
    "# Directory  to copy these files\n",
    "target_directory = \"/home/sara/Scrivania/Physics_of_Data/2nd_Year/NeuralNetworks_DeepLearning/Lab/Lakh_melodies\"\n",
    "\n",
    "for file_path in melodies:\n",
    "    if os.path.isfile(file_path): \n",
    "        shutil.copy(file_path, target_directory)\n",
    "    else:\n",
    "        print(f\"File not found: {file_path}\")\n",
    "\n",
    "print(\"Files copied successfully.\")"
   ]
  },
  {
   "cell_type": "markdown",
   "id": "1e38ffe4",
   "metadata": {},
   "source": [
    "## 0.2 Check for no-notes tracks and remove them"
   ]
  },
  {
   "cell_type": "code",
   "execution_count": 21,
   "id": "6ce99673",
   "metadata": {},
   "outputs": [
    {
     "name": "stdout",
     "output_type": "stream",
     "text": [
      "Uncorrupted files remained:  3140\n"
     ]
    }
   ],
   "source": [
    "target_directory = \"/home/sara/Scrivania/Physics_of_Data/2nd_Year/NeuralNetworks_DeepLearning/Lab/Lakh_melodies\"\n",
    "paths = []\n",
    "midi_files = os.listdir(target_directory)\n",
    "for midi in midi_files:\n",
    "    paths.append(f\"{target_directory}/{midi}\")\n",
    "\n",
    "    \n",
    "metadata = []\n",
    "\n",
    "for midi_path in paths:\n",
    "    notes, time = extract_note_events(midi_path, track_name='MELODY')\n",
    "    notes = np.array(notes)\n",
    "\n",
    "\t#Check for corrupted files with no notes and remove them\n",
    "    if (notes.shape[0]==0) or time==0:\n",
    "        os.remove(midi_path)\n",
    "        #print(f\"No-note midi file, removed: {midi_path}\")\n",
    "    else:\n",
    "        midi_file = mido.MidiFile(midi_path)\n",
    "        tpb = midi_file.ticks_per_beat\n",
    "        track0 = [track for track in midi_file.tracks if track.name=='']\n",
    "        if len(track0)!=0:\n",
    "            #get metamessage\n",
    "            meta = [track0[0][i] for i in range(0,len(track0[0]))]\n",
    "            metadata.append([tpb,meta,time])\n",
    "        else:\n",
    "            os.remove(midi_path)\n",
    "            #print(f\"No header file, removed: {midi_path}\")\n",
    "            \n",
    "paths = []\n",
    "midi_files = os.listdir(target_directory)\n",
    "for midi in midi_files:\n",
    "    paths.append(f\"{target_directory}/{midi}\")\n",
    "print('Uncorrupted files remained: ', len(paths))"
   ]
  },
  {
   "cell_type": "markdown",
   "id": "542b2bbf",
   "metadata": {},
   "source": [
    "## 0.4 Select 4/4 tempo, 384 ticks per beat"
   ]
  },
  {
   "cell_type": "code",
   "execution_count": 22,
   "id": "65e17e64",
   "metadata": {},
   "outputs": [],
   "source": [
    "indexes_, selected_paths, selected_meta = select_tempo(paths=paths, tpb=384, tempo_num=4, tempo_den=4, metadata=metadata) "
   ]
  },
  {
   "cell_type": "code",
   "execution_count": 25,
   "id": "dd135a6d",
   "metadata": {
    "scrolled": true
   },
   "outputs": [
    {
     "name": "stdout",
     "output_type": "stream",
     "text": [
      "Files copied successfully.\n"
     ]
    }
   ],
   "source": [
    "# define subset of the dataset with only these files:\n",
    "target_directory = \"/home/sara/Scrivania/Physics_of_Data/2nd_Year/NeuralNetworks_DeepLearning/Lab/Lakh_melodies_4_4\"\n",
    "\n",
    "# Copy each file to the target directory\n",
    "for file_path in selected_paths:\n",
    "    if os.path.isfile(file_path):  # Check if the file exists\n",
    "        destination_path = os.path.join(target_directory, os.path.basename(file_path))\n",
    "        if file_path != destination_path:  # Check if the source and destination are the same\n",
    "            shutil.copy(file_path, destination_path)\n",
    "        else:\n",
    "            print(f\"File is already in the target directory: {file_path}\")\n",
    "    else:\n",
    "        print(f\"File not found: {file_path}\")\n",
    "\n",
    "print(\"Files copied successfully.\")"
   ]
  },
  {
   "cell_type": "code",
   "execution_count": 27,
   "id": "187efca9",
   "metadata": {},
   "outputs": [
    {
     "name": "stdout",
     "output_type": "stream",
     "text": [
      "Cleaned melody dataset:\n",
      "Tempo : 4/4\n",
      "Ticks per beat : 384\n",
      "Number of files :  2698\n"
     ]
    }
   ],
   "source": [
    "print('Cleaned melody dataset:\\nTempo : 4/4\\nTicks per beat : 384\\nNumber of files : ',len(selected_paths))"
   ]
  },
  {
   "cell_type": "markdown",
   "id": "f70bb09d",
   "metadata": {},
   "source": [
    " ## 0.5 Final formatting"
   ]
  },
  {
   "cell_type": "markdown",
   "id": "947e5dee",
   "metadata": {},
   "source": [
    "The final phase of formatting consists of:\n",
    "- Unpack notes into time series (one note for each tick)\n",
    "- Remove silences by prolonging previous notes\n",
    "- Restrict notes into 2 octaves\n",
    "- Represent notes as a 128 dimensional array with all zeroes except for the note \n",
    "- Augment the dataset through transposition and rotation\n",
    "\n",
    "At the end of this phase, an array $[\\text{augmented songs}\\times\\text{bars}\\times\\text{notes per bar}\\times \\text{notes range}]=[43168\\times 8 \\times 16 \\times 128]$ is obtained."
   ]
  },
  {
   "cell_type": "code",
   "execution_count": 28,
   "id": "044cf546",
   "metadata": {},
   "outputs": [],
   "source": [
    "# Importing files from dataset directory\n",
    "# get data from new directory\n",
    "paths_4_4 = []\n",
    "target_directory = \"/home/sara/Scrivania/Physics_of_Data/2nd_Year/NeuralNetworks_DeepLearning/Lab/Lakh_melodies_4_4\"\n",
    "midi_files = os.listdir(target_directory)\n",
    "\n",
    "for midi in midi_files:\n",
    "    paths_4_4.append(f\"{target_directory}/{midi}\")"
   ]
  },
  {
   "cell_type": "code",
   "execution_count": 30,
   "id": "7643f434",
   "metadata": {},
   "outputs": [
    {
     "name": "stdout",
     "output_type": "stream",
     "text": [
      "0 / 2698  midis processed successfully.\n",
      "\n",
      "500 / 2698  midis processed successfully.\n",
      "\n",
      "1000 / 2698  midis processed successfully.\n",
      "\n",
      "1500 / 2698  midis processed successfully.\n",
      "\n",
      "2000 / 2698  midis processed successfully.\n",
      "\n",
      "2500 / 2698  midis processed successfully.\n",
      "\n"
     ]
    }
   ],
   "source": [
    "dataset = formatting(paths_4_4, tpb=384, tempo=4, npb=16, n_bars=8, restrict=False, shift_range=8, n_aug=15)"
   ]
  },
  {
   "cell_type": "code",
   "execution_count": 32,
   "id": "5d13e2d9",
   "metadata": {},
   "outputs": [
    {
     "name": "stdout",
     "output_type": "stream",
     "text": [
      "Tracks correctly formatted: 43168\n"
     ]
    }
   ],
   "source": [
    "# Check one-hot encoding\n",
    "unenc = 0\n",
    "for i in range(dataset.shape[0]):\n",
    "    for j in range(dataset.shape[1]):\n",
    "        for k in range(dataset.shape[2]):\n",
    "            a = np.where(dataset[i,j,k,:]==1)\n",
    "            if(len(a)!=1):\n",
    "                unenc +=1\n",
    "                print('Uncorrectly encoded track:', i, j, k)\n",
    "print('Tracks correctly formatted:', dataset.shape[0]-unenc)"
   ]
  },
  {
   "cell_type": "code",
   "execution_count": 34,
   "id": "90e3a511",
   "metadata": {},
   "outputs": [],
   "source": [
    "np.save('lakh_pfa_16.npy', dataset)"
   ]
  }
 ],
 "metadata": {
  "kernelspec": {
   "display_name": "Python 3 (ipykernel)",
   "language": "python",
   "name": "python3"
  },
  "language_info": {
   "codemirror_mode": {
    "name": "ipython",
    "version": 3
   },
   "file_extension": ".py",
   "mimetype": "text/x-python",
   "name": "python",
   "nbconvert_exporter": "python",
   "pygments_lexer": "ipython3",
   "version": "3.9.12"
  }
 },
 "nbformat": 4,
 "nbformat_minor": 5
}
