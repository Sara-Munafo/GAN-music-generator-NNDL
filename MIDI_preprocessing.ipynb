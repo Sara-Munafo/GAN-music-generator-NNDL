{
 "cells": [
  {
   "cell_type": "code",
   "execution_count": 1,
   "id": "65c5c206",
   "metadata": {},
   "outputs": [],
   "source": [
    "import mido\n",
    "import matplotlib.pyplot as plt\n",
    "import numpy as np\n",
    "import os\n",
    "import shutil\n",
    "import pretty_midi\n",
    "from preprocess_midi import *"
   ]
  },
  {
   "cell_type": "markdown",
   "id": "aa815953",
   "metadata": {},
   "source": [
    "#### Standard MIDI File Structure    \n",
    "\n",
    "A standard MIDI file consists of three main components:\n",
    "\n",
    "1. Header Chunk: This provides metadata about the file.Chunk Type: 4 bytes, always \"MThd\".\n",
    "   - Length: 4 bytes, always 6 (the length of the header data).|\n",
    "   - Format Type: 2 bytes, indicating the file format (0, 1, or 2).\n",
    "   - Number of Tracks: 2 bytes, indicating the number of track chunks in the file.\n",
    "   - Time Division: 2 bytes, indicating the timing information (ticks per quarter note or frames per second).    \n",
    "   \n",
    "\n",
    "2. Track Chunk(s): Each track contains a sequence of MIDI events.\n",
    "   - Chunk Type: 4 bytes, always \"MTrk\".\n",
    "   - Length: 4 bytes, indicating the length of the track data.\n",
    "   - Track Event Data: Variable length, consisting of MIDI events such as note on/off, control changes, and meta events."
   ]
  },
  {
   "cell_type": "markdown",
   "id": "9c65fb39",
   "metadata": {},
   "source": [
    "# 0. PREPROCESSING"
   ]
  },
  {
   "cell_type": "markdown",
   "id": "61a441de",
   "metadata": {},
   "source": [
    "## 0.1 Get melodies from full dataset"
   ]
  },
  {
   "cell_type": "markdown",
   "id": "a0640dfc",
   "metadata": {},
   "source": [
    "https://colinraffel.com/projects/lmd/#get"
   ]
  },
  {
   "cell_type": "code",
   "execution_count": null,
   "id": "8ff64607",
   "metadata": {},
   "outputs": [],
   "source": [
    "path_full = 'LAKH/lmd_full'\n",
    "paths = []\n",
    "\n",
    "directories = os.listdir(path_full)\n",
    "\n",
    "for direc in directories:\n",
    "    #if direc in excluded:\n",
    "    directory = f\"{path_full}/{direc}\"\n",
    "    midi_files = [name for name in os.listdir(directory) if name.endswith('.mid')]\n",
    "    for midi in midi_files:\n",
    "        paths.append(f\"{path_full}/{direc}/{midi}\")"
   ]
  },
  {
   "cell_type": "code",
   "execution_count": 3,
   "id": "90504f6b",
   "metadata": {},
   "outputs": [
    {
     "data": {
      "text/plain": [
       "178561"
      ]
     },
     "execution_count": 3,
     "metadata": {},
     "output_type": "execute_result"
    }
   ],
   "source": [
    "len(paths)"
   ]
  },
  {
   "cell_type": "code",
   "execution_count": 5,
   "id": "44509a66",
   "metadata": {},
   "outputs": [
    {
     "name": "stdout",
     "output_type": "stream",
     "text": [
      "Iteration:  0   , n =  0   melody tracks found\n"
     ]
    },
    {
     "name": "stderr",
     "output_type": "stream",
     "text": [
      "/home/sara/anaconda3/lib/python3.9/site-packages/pretty_midi/pretty_midi.py:100: RuntimeWarning: Tempo, Key or Time signature change events found on non-zero tracks.  This is not a valid type 0 or type 1 MIDI file.  Tempo, Key or Time Signature may be wrong.\n",
      "  warnings.warn(\n"
     ]
    },
    {
     "name": "stdout",
     "output_type": "stream",
     "text": [
      "Iteration:  1000   , n =  27   melody tracks found\n",
      "Iteration:  2000   , n =  41   melody tracks found\n",
      "Iteration:  3000   , n =  61   melody tracks found\n",
      "Iteration:  4000   , n =  73   melody tracks found\n",
      "Iteration:  5000   , n =  90   melody tracks found\n",
      "Iteration:  6000   , n =  113   melody tracks found\n",
      "Iteration:  7000   , n =  133   melody tracks found\n",
      "Iteration:  8000   , n =  148   melody tracks found\n",
      "Iteration:  9000   , n =  160   melody tracks found\n",
      "Iteration:  10000   , n =  178   melody tracks found\n",
      "Iteration:  11000   , n =  191   melody tracks found\n",
      "Iteration:  12000   , n =  212   melody tracks found\n",
      "Iteration:  13000   , n =  227   melody tracks found\n",
      "Iteration:  14000   , n =  241   melody tracks found\n",
      "Iteration:  15000   , n =  251   melody tracks found\n",
      "Iteration:  16000   , n =  264   melody tracks found\n",
      "Iteration:  17000   , n =  284   melody tracks found\n",
      "Iteration:  18000   , n =  301   melody tracks found\n",
      "Iteration:  19000   , n =  323   melody tracks found\n",
      "Iteration:  20000   , n =  348   melody tracks found\n",
      "Iteration:  21000   , n =  366   melody tracks found\n",
      "Iteration:  22000   , n =  386   melody tracks found\n",
      "Iteration:  23000   , n =  402   melody tracks found\n",
      "Iteration:  24000   , n =  424   melody tracks found\n",
      "Iteration:  25000   , n =  439   melody tracks found\n",
      "Iteration:  26000   , n =  457   melody tracks found\n",
      "Iteration:  27000   , n =  469   melody tracks found\n",
      "Iteration:  28000   , n =  488   melody tracks found\n",
      "Iteration:  29000   , n =  505   melody tracks found\n",
      "Iteration:  30000   , n =  516   melody tracks found\n",
      "Iteration:  31000   , n =  530   melody tracks found\n",
      "Iteration:  32000   , n =  541   melody tracks found\n",
      "Iteration:  33000   , n =  562   melody tracks found\n",
      "Iteration:  34000   , n =  588   melody tracks found\n",
      "Iteration:  35000   , n =  608   melody tracks found\n",
      "Iteration:  36000   , n =  627   melody tracks found\n",
      "Iteration:  37000   , n =  638   melody tracks found\n",
      "Iteration:  38000   , n =  661   melody tracks found\n",
      "Iteration:  39000   , n =  676   melody tracks found\n",
      "Iteration:  40000   , n =  692   melody tracks found\n",
      "Iteration:  41000   , n =  705   melody tracks found\n",
      "Iteration:  42000   , n =  730   melody tracks found\n",
      "Iteration:  43000   , n =  740   melody tracks found\n",
      "Iteration:  44000   , n =  768   melody tracks found\n",
      "Iteration:  45000   , n =  789   melody tracks found\n",
      "Iteration:  46000   , n =  802   melody tracks found\n",
      "Iteration:  47000   , n =  824   melody tracks found\n",
      "Iteration:  48000   , n =  841   melody tracks found\n",
      "Iteration:  49000   , n =  860   melody tracks found\n",
      "Iteration:  50000   , n =  876   melody tracks found\n",
      "Iteration:  51000   , n =  892   melody tracks found\n",
      "Iteration:  52000   , n =  900   melody tracks found\n",
      "Iteration:  53000   , n =  915   melody tracks found\n",
      "Iteration:  54000   , n =  936   melody tracks found\n",
      "Iteration:  55000   , n =  961   melody tracks found\n",
      "Iteration:  56000   , n =  972   melody tracks found\n",
      "Iteration:  57000   , n =  983   melody tracks found\n",
      "Iteration:  58000   , n =  1000   melody tracks found\n",
      "Iteration:  59000   , n =  1012   melody tracks found\n",
      "Iteration:  60000   , n =  1022   melody tracks found\n",
      "Iteration:  61000   , n =  1049   melody tracks found\n",
      "Iteration:  62000   , n =  1065   melody tracks found\n",
      "Iteration:  63000   , n =  1084   melody tracks found\n",
      "Iteration:  64000   , n =  1099   melody tracks found\n",
      "Iteration:  65000   , n =  1117   melody tracks found\n",
      "Iteration:  66000   , n =  1136   melody tracks found\n",
      "Iteration:  67000   , n =  1155   melody tracks found\n",
      "Iteration:  68000   , n =  1170   melody tracks found\n",
      "Iteration:  69000   , n =  1182   melody tracks found\n",
      "Iteration:  70000   , n =  1203   melody tracks found\n",
      "Iteration:  71000   , n =  1231   melody tracks found\n",
      "Iteration:  72000   , n =  1258   melody tracks found\n",
      "Iteration:  73000   , n =  1273   melody tracks found\n",
      "Iteration:  74000   , n =  1295   melody tracks found\n",
      "Iteration:  75000   , n =  1318   melody tracks found\n",
      "Iteration:  76000   , n =  1337   melody tracks found\n",
      "Iteration:  77000   , n =  1354   melody tracks found\n",
      "Iteration:  78000   , n =  1366   melody tracks found\n",
      "Iteration:  79000   , n =  1388   melody tracks found\n",
      "Iteration:  80000   , n =  1408   melody tracks found\n",
      "Iteration:  81000   , n =  1424   melody tracks found\n",
      "Iteration:  82000   , n =  1438   melody tracks found\n",
      "Iteration:  83000   , n =  1455   melody tracks found\n",
      "Iteration:  84000   , n =  1468   melody tracks found\n",
      "Iteration:  85000   , n =  1485   melody tracks found\n",
      "Iteration:  86000   , n =  1501   melody tracks found\n",
      "Iteration:  87000   , n =  1519   melody tracks found\n",
      "Iteration:  88000   , n =  1532   melody tracks found\n",
      "Iteration:  89000   , n =  1550   melody tracks found\n",
      "Iteration:  90000   , n =  1566   melody tracks found\n",
      "Iteration:  91000   , n =  1586   melody tracks found\n",
      "Iteration:  92000   , n =  1603   melody tracks found\n",
      "Iteration:  93000   , n =  1621   melody tracks found\n",
      "Iteration:  94000   , n =  1640   melody tracks found\n",
      "Iteration:  95000   , n =  1658   melody tracks found\n",
      "Iteration:  96000   , n =  1674   melody tracks found\n",
      "Iteration:  97000   , n =  1696   melody tracks found\n",
      "Iteration:  98000   , n =  1712   melody tracks found\n",
      "Iteration:  99000   , n =  1723   melody tracks found\n",
      "Iteration:  100000   , n =  1736   melody tracks found\n",
      "Iteration:  101000   , n =  1755   melody tracks found\n",
      "Iteration:  102000   , n =  1771   melody tracks found\n",
      "Iteration:  103000   , n =  1793   melody tracks found\n",
      "Iteration:  104000   , n =  1809   melody tracks found\n",
      "Iteration:  105000   , n =  1827   melody tracks found\n",
      "Iteration:  106000   , n =  1852   melody tracks found\n",
      "Iteration:  107000   , n =  1867   melody tracks found\n",
      "Iteration:  108000   , n =  1882   melody tracks found\n",
      "Iteration:  109000   , n =  1895   melody tracks found\n",
      "Iteration:  110000   , n =  1912   melody tracks found\n",
      "Iteration:  111000   , n =  1926   melody tracks found\n",
      "Iteration:  112000   , n =  1949   melody tracks found\n",
      "Iteration:  113000   , n =  1971   melody tracks found\n",
      "Iteration:  114000   , n =  1991   melody tracks found\n",
      "Iteration:  115000   , n =  2006   melody tracks found\n",
      "Iteration:  116000   , n =  2025   melody tracks found\n",
      "Iteration:  117000   , n =  2045   melody tracks found\n",
      "Iteration:  118000   , n =  2057   melody tracks found\n",
      "Iteration:  119000   , n =  2074   melody tracks found\n",
      "Iteration:  120000   , n =  2093   melody tracks found\n",
      "Iteration:  121000   , n =  2111   melody tracks found\n",
      "Iteration:  122000   , n =  2126   melody tracks found\n",
      "Iteration:  123000   , n =  2146   melody tracks found\n",
      "Iteration:  124000   , n =  2160   melody tracks found\n",
      "Iteration:  125000   , n =  2171   melody tracks found\n",
      "Iteration:  126000   , n =  2193   melody tracks found\n",
      "Iteration:  127000   , n =  2212   melody tracks found\n",
      "Iteration:  128000   , n =  2228   melody tracks found\n",
      "Iteration:  129000   , n =  2244   melody tracks found\n",
      "Iteration:  130000   , n =  2274   melody tracks found\n",
      "Iteration:  131000   , n =  2294   melody tracks found\n",
      "Iteration:  132000   , n =  2329   melody tracks found\n",
      "Iteration:  133000   , n =  2351   melody tracks found\n",
      "Iteration:  134000   , n =  2372   melody tracks found\n",
      "Iteration:  135000   , n =  2391   melody tracks found\n",
      "Iteration:  136000   , n =  2407   melody tracks found\n",
      "Iteration:  137000   , n =  2421   melody tracks found\n",
      "Iteration:  138000   , n =  2438   melody tracks found\n",
      "Iteration:  139000   , n =  2447   melody tracks found\n",
      "Iteration:  140000   , n =  2470   melody tracks found\n",
      "Iteration:  141000   , n =  2498   melody tracks found\n",
      "Iteration:  142000   , n =  2512   melody tracks found\n",
      "Iteration:  143000   , n =  2532   melody tracks found\n",
      "Iteration:  144000   , n =  2548   melody tracks found\n",
      "Iteration:  145000   , n =  2561   melody tracks found\n",
      "Iteration:  146000   , n =  2566   melody tracks found\n",
      "Iteration:  147000   , n =  2585   melody tracks found\n",
      "Iteration:  148000   , n =  2603   melody tracks found\n",
      "Iteration:  149000   , n =  2616   melody tracks found\n",
      "Iteration:  150000   , n =  2633   melody tracks found\n",
      "Iteration:  151000   , n =  2645   melody tracks found\n",
      "Iteration:  152000   , n =  2668   melody tracks found\n",
      "Iteration:  153000   , n =  2686   melody tracks found\n"
     ]
    },
    {
     "name": "stdout",
     "output_type": "stream",
     "text": [
      "Iteration:  154000   , n =  2705   melody tracks found\n",
      "Iteration:  155000   , n =  2728   melody tracks found\n",
      "Iteration:  156000   , n =  2741   melody tracks found\n",
      "Iteration:  157000   , n =  2760   melody tracks found\n",
      "Iteration:  158000   , n =  2776   melody tracks found\n",
      "Iteration:  159000   , n =  2795   melody tracks found\n",
      "Iteration:  160000   , n =  2817   melody tracks found\n",
      "Iteration:  161000   , n =  2833   melody tracks found\n",
      "Iteration:  162000   , n =  2857   melody tracks found\n",
      "Iteration:  163000   , n =  2879   melody tracks found\n",
      "Iteration:  164000   , n =  2898   melody tracks found\n",
      "Iteration:  165000   , n =  2920   melody tracks found\n",
      "Iteration:  166000   , n =  2941   melody tracks found\n",
      "Iteration:  167000   , n =  2949   melody tracks found\n",
      "Iteration:  168000   , n =  2970   melody tracks found\n",
      "Iteration:  169000   , n =  2991   melody tracks found\n",
      "Iteration:  170000   , n =  3005   melody tracks found\n",
      "Iteration:  171000   , n =  3016   melody tracks found\n",
      "Iteration:  172000   , n =  3036   melody tracks found\n",
      "Iteration:  173000   , n =  3052   melody tracks found\n",
      "Iteration:  174000   , n =  3072   melody tracks found\n",
      "Iteration:  175000   , n =  3088   melody tracks found\n",
      "Iteration:  176000   , n =  3107   melody tracks found\n",
      "Iteration:  177000   , n =  3122   melody tracks found\n",
      "Iteration:  178000   , n =  3137   melody tracks found\n"
     ]
    }
   ],
   "source": [
    "melodies = []\n",
    "corrupt = 0    \n",
    "\n",
    "for i,path in enumerate(paths):\n",
    "    res = search_melodies(path)\n",
    "    if res is not None:\n",
    "        if res==1:\n",
    "            melodies.append(path)\n",
    "    else:\n",
    "        corrupt += 1"
   ]
  },
  {
   "cell_type": "code",
   "execution_count": 6,
   "id": "955b4890",
   "metadata": {},
   "outputs": [
    {
     "data": {
      "text/plain": [
       "3144"
      ]
     },
     "execution_count": 6,
     "metadata": {},
     "output_type": "execute_result"
    }
   ],
   "source": [
    "len(melodies)"
   ]
  },
  {
   "cell_type": "code",
   "execution_count": 7,
   "id": "e414c522",
   "metadata": {},
   "outputs": [
    {
     "data": {
      "text/plain": [
       "69210"
      ]
     },
     "execution_count": 7,
     "metadata": {},
     "output_type": "execute_result"
    }
   ],
   "source": [
    "corrupt"
   ]
  },
  {
   "cell_type": "code",
   "execution_count": 8,
   "id": "8e798993",
   "metadata": {},
   "outputs": [],
   "source": [
    "# Save melodies paths found\n",
    "with open(\"melodies_clean.txt\", \"w\") as f: \n",
    "    for line in melodies:\n",
    "        f.write(f\"{line}\\n\")"
   ]
  },
  {
   "cell_type": "code",
   "execution_count": 9,
   "id": "cff9b3f5",
   "metadata": {},
   "outputs": [],
   "source": [
    "# Load melodies paths found\n",
    "melodies_lakh = []\n",
    "with open(\"melodies_clean.txt\", \"r\") as f1:\n",
    "    for line in f1:\n",
    "        #line_as_list = line.strip()\n",
    "        melodies_lakh.append(line.strip())\n",
    "        "
   ]
  },
  {
   "cell_type": "code",
   "execution_count": 10,
   "id": "afcfa2bc",
   "metadata": {},
   "outputs": [
    {
     "name": "stdout",
     "output_type": "stream",
     "text": [
      "Files copied successfully.\n"
     ]
    }
   ],
   "source": [
    "# Directory  to copy these files\n",
    "target_directory = \"/home/sara/Scrivania/Physics_of_Data/2nd_Year/NeuralNetworks_DeepLearning/Lab/Lakh_clean_2.0\"\n",
    "\n",
    "for file_path in melodies_lakh:\n",
    "    if os.path.isfile(file_path): \n",
    "        shutil.copy(file_path, target_directory)\n",
    "    else:\n",
    "        print(f\"File not found: {file_path}\")\n",
    "\n",
    "print(\"Files copied successfully.\")"
   ]
  },
  {
   "cell_type": "markdown",
   "id": "1e38ffe4",
   "metadata": {},
   "source": [
    "## 0.2 Check for no-notes tracks and remove them"
   ]
  },
  {
   "cell_type": "code",
   "execution_count": 5,
   "id": "192cfd35",
   "metadata": {},
   "outputs": [],
   "source": [
    "# get data from new directory\n",
    "target_directory = \"/home/gloria/Scrivania/Neural networks and deep learning/Project/lahck/Lakh_clean_4_4\"\n",
    "paths = []\n",
    "\n",
    "midi_files = os.listdir(target_directory)\n",
    "\n",
    "for midi in midi_files:\n",
    "    paths.append(f\"{target_directory}/{midi}\")"
   ]
  },
  {
   "cell_type": "code",
   "execution_count": 7,
   "id": "f55db785",
   "metadata": {},
   "outputs": [],
   "source": [
    "# check for tracks that don't have notes\n",
    "path_toremove = []\n",
    "for path in paths:\n",
    "    # Open the MIDI file\n",
    "    midi_file = mido.MidiFile(path)\n",
    "    #compute total time\n",
    "    t = 0\n",
    "    for track in midi_file.tracks:\n",
    "        if track.name=='MELODY':\n",
    "            for msg in track:\n",
    "                t = t + msg.time\n",
    "            break\n",
    "            \n",
    "    if t==0:\n",
    "        path_toremove.append(path)"
   ]
  },
  {
   "cell_type": "code",
   "execution_count": 9,
   "id": "5d621542",
   "metadata": {},
   "outputs": [],
   "source": [
    "#Remove these tracks from the directory\n",
    "for file_path in path_toremove:\n",
    "    try:\n",
    "        if os.path.exists(file_path):\n",
    "            os.remove(file_path)\n",
    "            print(f\"Removed: {file_path}\")\n",
    "        else:\n",
    "            print(f\"File does not exist: {file_path}\")\n",
    "    except Exception as e:\n",
    "        print(f\"Error removing {file_path}: {e}\")\n"
   ]
  },
  {
   "cell_type": "markdown",
   "id": "9c2a3b24",
   "metadata": {},
   "source": [
    "## 0.3 Define metadata and remove zero-times' tracks"
   ]
  },
  {
   "cell_type": "code",
   "execution_count": 10,
   "id": "3d708fb1",
   "metadata": {},
   "outputs": [],
   "source": [
    "#Define new paths\n",
    "paths_new = []\n",
    "midi_files = os.listdir(target_directory)\n",
    "for midi in midi_files:\n",
    "    paths_new.append(f\"{target_directory}/{midi}\")\n",
    "\n",
    "    \n",
    "#creates list with metadata\n",
    "#for each entry [ticks per beat, metamessage, total time in ticks]\n",
    "#also check that there are no more tracks with no notes\n",
    "metadata = []\n",
    "path_toremove = []\n",
    "\n",
    "for path in paths_new:\n",
    "\n",
    "    # Open the MIDI file\n",
    "    midi_file = mido.MidiFile(path)\n",
    "\n",
    "    tpb = midi_file.ticks_per_beat\n",
    "\n",
    "    track0 = [track for track in midi_file.tracks if track.name=='']\n",
    "        \n",
    "    #compute total time\n",
    "    t = 0\n",
    "    for track in midi_file.tracks:\n",
    "        if track.name=='MELODY':\n",
    "            for msg in track:\n",
    "                t = t + msg.time\n",
    "            break\n",
    "            \n",
    "    #get metamessage\n",
    "    meta = [track0[0][i] for i in range(0,len(track0[0]))]\n",
    "    if t!=0:\n",
    "        metadata.append([tpb,meta,t])\n",
    "    else:\n",
    "        path_toremove.append(path)\n"
   ]
  },
  {
   "cell_type": "code",
   "execution_count": 12,
   "id": "0cfbd3c5",
   "metadata": {},
   "outputs": [
    {
     "data": {
      "text/plain": [
       "2699"
      ]
     },
     "execution_count": 12,
     "metadata": {},
     "output_type": "execute_result"
    }
   ],
   "source": [
    "len(paths_new)"
   ]
  },
  {
   "cell_type": "markdown",
   "id": "542b2bbf",
   "metadata": {},
   "source": [
    "## 0.4 Select 4/4 tempo, 384 ticks per beat"
   ]
  },
  {
   "cell_type": "code",
   "execution_count": 14,
   "id": "65e17e64",
   "metadata": {},
   "outputs": [
    {
     "data": {
      "text/plain": [
       "2699"
      ]
     },
     "execution_count": 14,
     "metadata": {},
     "output_type": "execute_result"
    }
   ],
   "source": [
    "indexes_, selected_paths, selected_meta = select_tempo(tpb=384, tempo_num=4, tempo_den=4) "
   ]
  },
  {
   "cell_type": "code",
   "execution_count": null,
   "id": "dd135a6d",
   "metadata": {
    "scrolled": true
   },
   "outputs": [],
   "source": [
    "# define subset of the dataset with only these files:\n",
    "target_directory = \"/home/sara/Scrivania/Physics_of_Data/2nd_Year/NeuralNetworks_DeepLearning/Lab/Lakh_clean_4_4\"\n",
    "\n",
    "# Copy each file to the target directory\n",
    "for file_path in selected_paths:\n",
    "    if os.path.isfile(file_path):  # Check if the file exists\n",
    "        destination_path = os.path.join(target_directory, os.path.basename(file_path))\n",
    "        if file_path != destination_path:  # Check if the source and destination are the same\n",
    "            shutil.copy(file_path, destination_path)\n",
    "        else:\n",
    "            print(f\"File is already in the target directory: {file_path}\")\n",
    "    else:\n",
    "        print(f\"File not found: {file_path}\")\n",
    "\n",
    "print(\"Files copied successfully.\")"
   ]
  },
  {
   "cell_type": "markdown",
   "id": "f70bb09d",
   "metadata": {},
   "source": [
    " ## 0.5 Final formatting"
   ]
  },
  {
   "cell_type": "markdown",
   "id": "947e5dee",
   "metadata": {},
   "source": [
    "The final phase of formatting consists of:\n",
    "- Unpack notes into time series (one note for each tick)\n",
    "- Remove silences by prolonging previous notes\n",
    "- Restrict notes into 2 octaves\n",
    "- Represent notes as a 128 dimensional array with all zeroes except for the note    \n",
    "\n",
    "At the end of this phase, an array $[\\text{songs}\\times\\text{bars}\\times\\text{notes per bar}\\times \\text{notes range}]=[2698\\times 8 \\times 16 \\times 128]$ is obtained."
   ]
  },
  {
   "cell_type": "code",
   "execution_count": 2,
   "id": "044cf546",
   "metadata": {},
   "outputs": [],
   "source": [
    "# Importing files from dataset directory\n",
    "# get data from new directory\n",
    "paths_4_4 = []\n",
    "target_directory = \"/home/sara/Scrivania/Physics_of_Data/2nd_Year/NeuralNetworks_DeepLearning/Lab/Lakh_clean_4_4\"\n",
    "midi_files = os.listdir(target_directory)\n",
    "\n",
    "for midi in midi_files:\n",
    "    paths_4_4.append(f\"{target_directory}/{midi}\")"
   ]
  },
  {
   "cell_type": "code",
   "execution_count": 4,
   "id": "d7abe0ad",
   "metadata": {},
   "outputs": [
    {
     "data": {
      "text/plain": [
       "2698"
      ]
     },
     "execution_count": 4,
     "metadata": {},
     "output_type": "execute_result"
    }
   ],
   "source": [
    "len(midi_files)"
   ]
  },
  {
   "cell_type": "code",
   "execution_count": 4,
   "id": "274e3d45",
   "metadata": {},
   "outputs": [
    {
     "name": "stdout",
     "output_type": "stream",
     "text": [
      "0 / 2698  midis processed successfully.\n",
      "\n",
      "500 / 2698  midis processed successfully.\n",
      "\n",
      "1000 / 2698  midis processed successfully.\n",
      "\n",
      "1500 / 2698  midis processed successfully.\n",
      "\n",
      "2000 / 2698  midis processed successfully.\n",
      "\n",
      "2500 / 2698  midis processed successfully.\n",
      "\n"
     ]
    }
   ],
   "source": [
    "dataset = formatting(paths_4_4, tpb=384, tempo=4, npb=16, n_bars=8)"
   ]
  },
  {
   "cell_type": "code",
   "execution_count": 5,
   "id": "f9e9d3da",
   "metadata": {},
   "outputs": [],
   "source": [
    "dataset = np.array(dataset)"
   ]
  },
  {
   "cell_type": "code",
   "execution_count": 8,
   "id": "4332601b",
   "metadata": {},
   "outputs": [
    {
     "data": {
      "text/plain": [
       "(2698, 8, 16, 128)"
      ]
     },
     "execution_count": 8,
     "metadata": {},
     "output_type": "execute_result"
    }
   ],
   "source": [
    "dataset.shape"
   ]
  },
  {
   "cell_type": "code",
   "execution_count": 9,
   "id": "57d25dac",
   "metadata": {},
   "outputs": [],
   "source": [
    "np.save('lakh_preprocessed.npy', dataset)"
   ]
  },
  {
   "cell_type": "code",
   "execution_count": null,
   "id": "669864dc",
   "metadata": {},
   "outputs": [],
   "source": []
  }
 ],
 "metadata": {
  "kernelspec": {
   "display_name": "Python 3 (ipykernel)",
   "language": "python",
   "name": "python3"
  },
  "language_info": {
   "codemirror_mode": {
    "name": "ipython",
    "version": 3
   },
   "file_extension": ".py",
   "mimetype": "text/x-python",
   "name": "python",
   "nbconvert_exporter": "python",
   "pygments_lexer": "ipython3",
   "version": "3.9.12"
  }
 },
 "nbformat": 4,
 "nbformat_minor": 5
}
